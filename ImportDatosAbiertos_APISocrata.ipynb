{
 "cells": [
  {
   "cell_type": "code",
   "execution_count": 1,
   "id": "alternative-minute",
   "metadata": {},
   "outputs": [],
   "source": [
    "import pandas as pd\n",
    "import numpy as np"
   ]
  },
  {
   "cell_type": "markdown",
   "id": "comparable-installation",
   "metadata": {},
   "source": [
    "<h1>IMPORTAR DATOS DESDE ABIERTOS.GOV.CO USANDO API SOCRATA</h1>"
   ]
  },
  {
   "cell_type": "markdown",
   "id": "interracial-poker",
   "metadata": {},
   "source": [
    "En la url https://www.datos.gov.co/ se selecciona el conjunto de datos y en exportar se da clic en la opción API\n",
    "y se copia la URL que aparece como **Extremo de la API**, lo cual permite obtener la data en un archivo JSON."
   ]
  },
  {
   "cell_type": "code",
   "execution_count": 14,
   "id": "pursuant-exclusion",
   "metadata": {},
   "outputs": [],
   "source": [
    "url=\"https://www.datos.gov.co/resource/8hip-g468.json\"\n",
    "usuarios_acueducto = pd.read_json(url)"
   ]
  },
  {
   "cell_type": "code",
   "execution_count": 17,
   "id": "opponent-mileage",
   "metadata": {},
   "outputs": [],
   "source": [
    "url=\"https://www.datos.gov.co/resource/hqpg-hau4.json\"\n",
    "usuarios_aseo = pd.read_json(url)"
   ]
  },
  {
   "cell_type": "code",
   "execution_count": 18,
   "id": "conventional-spanking",
   "metadata": {},
   "outputs": [],
   "source": [
    "url=\"https://www.datos.gov.co/resource/dms6-exq8.json\"\n",
    "usuarios_alcantarillado = pd.read_json(url)"
   ]
  },
  {
   "cell_type": "markdown",
   "id": "scientific-telephone",
   "metadata": {},
   "source": [
    "Para nuestro ejemplo hemos importado los datos de:\n",
    "<ol>\n",
    "<li>Usuarios Servicio de Acueducto por Mes, Uso y Estrato - Funza Cundinamarca</li>\n",
    "<li>Usuarios Servicio de Aseo por Mes, Uso y Estrato - Funza Cundinamarca</li>\n",
    "<li>Usuarios Servicio de Alcantarillado por Mes, Uso y Estrato - Funza Cundinamarca</li>   \n",
    "<ol>"
   ]
  },
  {
   "cell_type": "code",
   "execution_count": 16,
   "id": "crucial-perspective",
   "metadata": {},
   "outputs": [
    {
     "data": {
      "text/html": [
       "<div>\n",
       "<style scoped>\n",
       "    .dataframe tbody tr th:only-of-type {\n",
       "        vertical-align: middle;\n",
       "    }\n",
       "\n",
       "    .dataframe tbody tr th {\n",
       "        vertical-align: top;\n",
       "    }\n",
       "\n",
       "    .dataframe thead th {\n",
       "        text-align: right;\n",
       "    }\n",
       "</style>\n",
       "<table border=\"1\" class=\"dataframe\">\n",
       "  <thead>\n",
       "    <tr style=\"text-align: right;\">\n",
       "      <th></th>\n",
       "      <th>anio</th>\n",
       "      <th>mes</th>\n",
       "      <th>uso_estrato</th>\n",
       "      <th>cantidad_usuarios</th>\n",
       "    </tr>\n",
       "  </thead>\n",
       "  <tbody>\n",
       "    <tr>\n",
       "      <th>0</th>\n",
       "      <td>2018</td>\n",
       "      <td>1</td>\n",
       "      <td>Residencial - Estrato 1</td>\n",
       "      <td>2950</td>\n",
       "    </tr>\n",
       "    <tr>\n",
       "      <th>1</th>\n",
       "      <td>2018</td>\n",
       "      <td>1</td>\n",
       "      <td>Residencial - Estrato 2</td>\n",
       "      <td>6660</td>\n",
       "    </tr>\n",
       "    <tr>\n",
       "      <th>2</th>\n",
       "      <td>2018</td>\n",
       "      <td>1</td>\n",
       "      <td>Residencial - Estrato 3</td>\n",
       "      <td>14518</td>\n",
       "    </tr>\n",
       "    <tr>\n",
       "      <th>3</th>\n",
       "      <td>2018</td>\n",
       "      <td>1</td>\n",
       "      <td>Residencial - Estrato 4</td>\n",
       "      <td>3</td>\n",
       "    </tr>\n",
       "    <tr>\n",
       "      <th>4</th>\n",
       "      <td>2018</td>\n",
       "      <td>1</td>\n",
       "      <td>Industrial</td>\n",
       "      <td>516</td>\n",
       "    </tr>\n",
       "  </tbody>\n",
       "</table>\n",
       "</div>"
      ],
      "text/plain": [
       "   anio  mes              uso_estrato  cantidad_usuarios\n",
       "0  2018    1  Residencial - Estrato 1               2950\n",
       "1  2018    1  Residencial - Estrato 2               6660\n",
       "2  2018    1  Residencial - Estrato 3              14518\n",
       "3  2018    1  Residencial - Estrato 4                  3\n",
       "4  2018    1               Industrial                516"
      ]
     },
     "execution_count": 16,
     "metadata": {},
     "output_type": "execute_result"
    }
   ],
   "source": [
    "usuarios_acueducto.head()"
   ]
  },
  {
   "cell_type": "code",
   "execution_count": 19,
   "id": "packed-place",
   "metadata": {},
   "outputs": [
    {
     "data": {
      "text/html": [
       "<div>\n",
       "<style scoped>\n",
       "    .dataframe tbody tr th:only-of-type {\n",
       "        vertical-align: middle;\n",
       "    }\n",
       "\n",
       "    .dataframe tbody tr th {\n",
       "        vertical-align: top;\n",
       "    }\n",
       "\n",
       "    .dataframe thead th {\n",
       "        text-align: right;\n",
       "    }\n",
       "</style>\n",
       "<table border=\"1\" class=\"dataframe\">\n",
       "  <thead>\n",
       "    <tr style=\"text-align: right;\">\n",
       "      <th></th>\n",
       "      <th>anio</th>\n",
       "      <th>mes</th>\n",
       "      <th>uso_estrato</th>\n",
       "      <th>cantidad_usuarios</th>\n",
       "    </tr>\n",
       "  </thead>\n",
       "  <tbody>\n",
       "    <tr>\n",
       "      <th>0</th>\n",
       "      <td>2018</td>\n",
       "      <td>1</td>\n",
       "      <td>Residencial - Estrato 1</td>\n",
       "      <td>2926</td>\n",
       "    </tr>\n",
       "    <tr>\n",
       "      <th>1</th>\n",
       "      <td>2018</td>\n",
       "      <td>1</td>\n",
       "      <td>Residencial - Estrato 2</td>\n",
       "      <td>6681</td>\n",
       "    </tr>\n",
       "    <tr>\n",
       "      <th>2</th>\n",
       "      <td>2018</td>\n",
       "      <td>1</td>\n",
       "      <td>Residencial - Estrato 3</td>\n",
       "      <td>14538</td>\n",
       "    </tr>\n",
       "    <tr>\n",
       "      <th>3</th>\n",
       "      <td>2018</td>\n",
       "      <td>1</td>\n",
       "      <td>Residencial - Estrato 4</td>\n",
       "      <td>2</td>\n",
       "    </tr>\n",
       "    <tr>\n",
       "      <th>4</th>\n",
       "      <td>2018</td>\n",
       "      <td>1</td>\n",
       "      <td>Industrial</td>\n",
       "      <td>503</td>\n",
       "    </tr>\n",
       "  </tbody>\n",
       "</table>\n",
       "</div>"
      ],
      "text/plain": [
       "   anio  mes              uso_estrato  cantidad_usuarios\n",
       "0  2018    1  Residencial - Estrato 1               2926\n",
       "1  2018    1  Residencial - Estrato 2               6681\n",
       "2  2018    1  Residencial - Estrato 3              14538\n",
       "3  2018    1  Residencial - Estrato 4                  2\n",
       "4  2018    1               Industrial                503"
      ]
     },
     "execution_count": 19,
     "metadata": {},
     "output_type": "execute_result"
    }
   ],
   "source": [
    "usuarios_aseo.head()"
   ]
  },
  {
   "cell_type": "code",
   "execution_count": 20,
   "id": "million-protocol",
   "metadata": {},
   "outputs": [
    {
     "data": {
      "text/html": [
       "<div>\n",
       "<style scoped>\n",
       "    .dataframe tbody tr th:only-of-type {\n",
       "        vertical-align: middle;\n",
       "    }\n",
       "\n",
       "    .dataframe tbody tr th {\n",
       "        vertical-align: top;\n",
       "    }\n",
       "\n",
       "    .dataframe thead th {\n",
       "        text-align: right;\n",
       "    }\n",
       "</style>\n",
       "<table border=\"1\" class=\"dataframe\">\n",
       "  <thead>\n",
       "    <tr style=\"text-align: right;\">\n",
       "      <th></th>\n",
       "      <th>anio</th>\n",
       "      <th>mes</th>\n",
       "      <th>uso_estrato</th>\n",
       "      <th>cantidad_usuarios</th>\n",
       "    </tr>\n",
       "  </thead>\n",
       "  <tbody>\n",
       "    <tr>\n",
       "      <th>0</th>\n",
       "      <td>2018</td>\n",
       "      <td>1</td>\n",
       "      <td>Residencial - Estrato 1</td>\n",
       "      <td>2816</td>\n",
       "    </tr>\n",
       "    <tr>\n",
       "      <th>1</th>\n",
       "      <td>2018</td>\n",
       "      <td>1</td>\n",
       "      <td>Residencial - Estrato 2</td>\n",
       "      <td>6525</td>\n",
       "    </tr>\n",
       "    <tr>\n",
       "      <th>2</th>\n",
       "      <td>2018</td>\n",
       "      <td>1</td>\n",
       "      <td>Residencial - Estrato 3</td>\n",
       "      <td>14447</td>\n",
       "    </tr>\n",
       "    <tr>\n",
       "      <th>3</th>\n",
       "      <td>2018</td>\n",
       "      <td>1</td>\n",
       "      <td>Residencial - Estrato 4</td>\n",
       "      <td>2</td>\n",
       "    </tr>\n",
       "    <tr>\n",
       "      <th>4</th>\n",
       "      <td>2018</td>\n",
       "      <td>1</td>\n",
       "      <td>Industrial</td>\n",
       "      <td>250</td>\n",
       "    </tr>\n",
       "  </tbody>\n",
       "</table>\n",
       "</div>"
      ],
      "text/plain": [
       "   anio  mes              uso_estrato  cantidad_usuarios\n",
       "0  2018    1  Residencial - Estrato 1               2816\n",
       "1  2018    1  Residencial - Estrato 2               6525\n",
       "2  2018    1  Residencial - Estrato 3              14447\n",
       "3  2018    1  Residencial - Estrato 4                  2\n",
       "4  2018    1               Industrial                250"
      ]
     },
     "execution_count": 20,
     "metadata": {},
     "output_type": "execute_result"
    }
   ],
   "source": [
    "usuarios_alcantarillado.head()"
   ]
  },
  {
   "cell_type": "code",
   "execution_count": null,
   "id": "respiratory-pledge",
   "metadata": {},
   "outputs": [],
   "source": []
  }
 ],
 "metadata": {
  "kernelspec": {
   "display_name": "Python 3",
   "language": "python",
   "name": "python3"
  },
  "language_info": {
   "codemirror_mode": {
    "name": "ipython",
    "version": 3
   },
   "file_extension": ".py",
   "mimetype": "text/x-python",
   "name": "python",
   "nbconvert_exporter": "python",
   "pygments_lexer": "ipython3",
   "version": "3.7.10"
  }
 },
 "nbformat": 4,
 "nbformat_minor": 5
}
